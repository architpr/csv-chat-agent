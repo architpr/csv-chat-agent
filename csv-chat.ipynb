{
 "cells": [
  {
   "cell_type": "code",
   "execution_count": 6,
   "id": "aa62968f-d9fb-41c2-8bb4-e37d995e6429",
   "metadata": {},
   "outputs": [
    {
     "name": "stdout",
     "output_type": "stream",
     "text": [
      "Requirement already satisfied: tabulate in d:\\ml project\\csv-chat-agent\\.venv\\lib\\site-packages (0.9.0)\n"
     ]
    }
   ],
   "source": [
    "!pip install tabulate"
   ]
  },
  {
   "cell_type": "code",
   "execution_count": 7,
   "id": "72e734bb-d2e2-440e-bd98-1abdbae82243",
   "metadata": {},
   "outputs": [
    {
     "name": "stdout",
     "output_type": "stream",
     "text": [
      "Requirement already satisfied: langchain_experimental in d:\\ml project\\csv-chat-agent\\.venv\\lib\\site-packages (0.3.4)\n",
      "Requirement already satisfied: langchain-community<0.4.0,>=0.3.0 in d:\\ml project\\csv-chat-agent\\.venv\\lib\\site-packages (from langchain_experimental) (0.3.30)\n",
      "Requirement already satisfied: langchain-core<0.4.0,>=0.3.28 in d:\\ml project\\csv-chat-agent\\.venv\\lib\\site-packages (from langchain_experimental) (0.3.78)\n",
      "Requirement already satisfied: langchain<2.0.0,>=0.3.27 in d:\\ml project\\csv-chat-agent\\.venv\\lib\\site-packages (from langchain-community<0.4.0,>=0.3.0->langchain_experimental) (0.3.27)\n",
      "Requirement already satisfied: SQLAlchemy<3.0.0,>=1.4.0 in d:\\ml project\\csv-chat-agent\\.venv\\lib\\site-packages (from langchain-community<0.4.0,>=0.3.0->langchain_experimental) (2.0.43)\n",
      "Requirement already satisfied: requests<3.0.0,>=2.32.5 in d:\\ml project\\csv-chat-agent\\.venv\\lib\\site-packages (from langchain-community<0.4.0,>=0.3.0->langchain_experimental) (2.32.5)\n",
      "Requirement already satisfied: PyYAML<7.0.0,>=5.3.0 in d:\\ml project\\csv-chat-agent\\.venv\\lib\\site-packages (from langchain-community<0.4.0,>=0.3.0->langchain_experimental) (6.0.3)\n",
      "Requirement already satisfied: aiohttp<4.0.0,>=3.8.3 in d:\\ml project\\csv-chat-agent\\.venv\\lib\\site-packages (from langchain-community<0.4.0,>=0.3.0->langchain_experimental) (3.13.0)\n",
      "Requirement already satisfied: tenacity!=8.4.0,<10.0.0,>=8.1.0 in d:\\ml project\\csv-chat-agent\\.venv\\lib\\site-packages (from langchain-community<0.4.0,>=0.3.0->langchain_experimental) (9.1.2)\n",
      "Requirement already satisfied: dataclasses-json<0.7.0,>=0.6.7 in d:\\ml project\\csv-chat-agent\\.venv\\lib\\site-packages (from langchain-community<0.4.0,>=0.3.0->langchain_experimental) (0.6.7)\n",
      "Requirement already satisfied: pydantic-settings<3.0.0,>=2.10.1 in d:\\ml project\\csv-chat-agent\\.venv\\lib\\site-packages (from langchain-community<0.4.0,>=0.3.0->langchain_experimental) (2.11.0)\n",
      "Requirement already satisfied: langsmith<1.0.0,>=0.1.125 in d:\\ml project\\csv-chat-agent\\.venv\\lib\\site-packages (from langchain-community<0.4.0,>=0.3.0->langchain_experimental) (0.4.32)\n",
      "Requirement already satisfied: httpx-sse<1.0.0,>=0.4.0 in d:\\ml project\\csv-chat-agent\\.venv\\lib\\site-packages (from langchain-community<0.4.0,>=0.3.0->langchain_experimental) (0.4.2)\n",
      "Requirement already satisfied: numpy>=2.1.0 in d:\\ml project\\csv-chat-agent\\.venv\\lib\\site-packages (from langchain-community<0.4.0,>=0.3.0->langchain_experimental) (2.3.3)\n",
      "Requirement already satisfied: aiohappyeyeballs>=2.5.0 in d:\\ml project\\csv-chat-agent\\.venv\\lib\\site-packages (from aiohttp<4.0.0,>=3.8.3->langchain-community<0.4.0,>=0.3.0->langchain_experimental) (2.6.1)\n",
      "Requirement already satisfied: aiosignal>=1.4.0 in d:\\ml project\\csv-chat-agent\\.venv\\lib\\site-packages (from aiohttp<4.0.0,>=3.8.3->langchain-community<0.4.0,>=0.3.0->langchain_experimental) (1.4.0)\n",
      "Requirement already satisfied: attrs>=17.3.0 in d:\\ml project\\csv-chat-agent\\.venv\\lib\\site-packages (from aiohttp<4.0.0,>=3.8.3->langchain-community<0.4.0,>=0.3.0->langchain_experimental) (25.4.0)\n",
      "Requirement already satisfied: frozenlist>=1.1.1 in d:\\ml project\\csv-chat-agent\\.venv\\lib\\site-packages (from aiohttp<4.0.0,>=3.8.3->langchain-community<0.4.0,>=0.3.0->langchain_experimental) (1.8.0)\n",
      "Requirement already satisfied: multidict<7.0,>=4.5 in d:\\ml project\\csv-chat-agent\\.venv\\lib\\site-packages (from aiohttp<4.0.0,>=3.8.3->langchain-community<0.4.0,>=0.3.0->langchain_experimental) (6.7.0)\n",
      "Requirement already satisfied: propcache>=0.2.0 in d:\\ml project\\csv-chat-agent\\.venv\\lib\\site-packages (from aiohttp<4.0.0,>=3.8.3->langchain-community<0.4.0,>=0.3.0->langchain_experimental) (0.4.0)\n",
      "Requirement already satisfied: yarl<2.0,>=1.17.0 in d:\\ml project\\csv-chat-agent\\.venv\\lib\\site-packages (from aiohttp<4.0.0,>=3.8.3->langchain-community<0.4.0,>=0.3.0->langchain_experimental) (1.22.0)\n",
      "Requirement already satisfied: marshmallow<4.0.0,>=3.18.0 in d:\\ml project\\csv-chat-agent\\.venv\\lib\\site-packages (from dataclasses-json<0.7.0,>=0.6.7->langchain-community<0.4.0,>=0.3.0->langchain_experimental) (3.26.1)\n",
      "Requirement already satisfied: typing-inspect<1,>=0.4.0 in d:\\ml project\\csv-chat-agent\\.venv\\lib\\site-packages (from dataclasses-json<0.7.0,>=0.6.7->langchain-community<0.4.0,>=0.3.0->langchain_experimental) (0.9.0)\n",
      "Requirement already satisfied: langchain-text-splitters<1.0.0,>=0.3.9 in d:\\ml project\\csv-chat-agent\\.venv\\lib\\site-packages (from langchain<2.0.0,>=0.3.27->langchain-community<0.4.0,>=0.3.0->langchain_experimental) (0.3.11)\n",
      "Requirement already satisfied: pydantic<3.0.0,>=2.7.4 in d:\\ml project\\csv-chat-agent\\.venv\\lib\\site-packages (from langchain<2.0.0,>=0.3.27->langchain-community<0.4.0,>=0.3.0->langchain_experimental) (2.11.10)\n",
      "Requirement already satisfied: jsonpatch<2.0.0,>=1.33.0 in d:\\ml project\\csv-chat-agent\\.venv\\lib\\site-packages (from langchain-core<0.4.0,>=0.3.28->langchain_experimental) (1.33)\n",
      "Requirement already satisfied: typing-extensions<5.0.0,>=4.7.0 in d:\\ml project\\csv-chat-agent\\.venv\\lib\\site-packages (from langchain-core<0.4.0,>=0.3.28->langchain_experimental) (4.15.0)\n",
      "Requirement already satisfied: packaging<26.0.0,>=23.2.0 in d:\\ml project\\csv-chat-agent\\.venv\\lib\\site-packages (from langchain-core<0.4.0,>=0.3.28->langchain_experimental) (25.0)\n",
      "Requirement already satisfied: jsonpointer>=1.9 in d:\\ml project\\csv-chat-agent\\.venv\\lib\\site-packages (from jsonpatch<2.0.0,>=1.33.0->langchain-core<0.4.0,>=0.3.28->langchain_experimental) (3.0.0)\n",
      "Requirement already satisfied: httpx<1,>=0.23.0 in d:\\ml project\\csv-chat-agent\\.venv\\lib\\site-packages (from langsmith<1.0.0,>=0.1.125->langchain-community<0.4.0,>=0.3.0->langchain_experimental) (0.28.1)\n",
      "Requirement already satisfied: orjson>=3.9.14 in d:\\ml project\\csv-chat-agent\\.venv\\lib\\site-packages (from langsmith<1.0.0,>=0.1.125->langchain-community<0.4.0,>=0.3.0->langchain_experimental) (3.11.3)\n",
      "Requirement already satisfied: requests-toolbelt>=1.0.0 in d:\\ml project\\csv-chat-agent\\.venv\\lib\\site-packages (from langsmith<1.0.0,>=0.1.125->langchain-community<0.4.0,>=0.3.0->langchain_experimental) (1.0.0)\n",
      "Requirement already satisfied: zstandard>=0.23.0 in d:\\ml project\\csv-chat-agent\\.venv\\lib\\site-packages (from langsmith<1.0.0,>=0.1.125->langchain-community<0.4.0,>=0.3.0->langchain_experimental) (0.25.0)\n",
      "Requirement already satisfied: anyio in d:\\ml project\\csv-chat-agent\\.venv\\lib\\site-packages (from httpx<1,>=0.23.0->langsmith<1.0.0,>=0.1.125->langchain-community<0.4.0,>=0.3.0->langchain_experimental) (4.11.0)\n",
      "Requirement already satisfied: certifi in d:\\ml project\\csv-chat-agent\\.venv\\lib\\site-packages (from httpx<1,>=0.23.0->langsmith<1.0.0,>=0.1.125->langchain-community<0.4.0,>=0.3.0->langchain_experimental) (2025.10.5)\n",
      "Requirement already satisfied: httpcore==1.* in d:\\ml project\\csv-chat-agent\\.venv\\lib\\site-packages (from httpx<1,>=0.23.0->langsmith<1.0.0,>=0.1.125->langchain-community<0.4.0,>=0.3.0->langchain_experimental) (1.0.9)\n",
      "Requirement already satisfied: idna in d:\\ml project\\csv-chat-agent\\.venv\\lib\\site-packages (from httpx<1,>=0.23.0->langsmith<1.0.0,>=0.1.125->langchain-community<0.4.0,>=0.3.0->langchain_experimental) (3.10)\n",
      "Requirement already satisfied: h11>=0.16 in d:\\ml project\\csv-chat-agent\\.venv\\lib\\site-packages (from httpcore==1.*->httpx<1,>=0.23.0->langsmith<1.0.0,>=0.1.125->langchain-community<0.4.0,>=0.3.0->langchain_experimental) (0.16.0)\n",
      "Requirement already satisfied: annotated-types>=0.6.0 in d:\\ml project\\csv-chat-agent\\.venv\\lib\\site-packages (from pydantic<3.0.0,>=2.7.4->langchain<2.0.0,>=0.3.27->langchain-community<0.4.0,>=0.3.0->langchain_experimental) (0.7.0)\n",
      "Requirement already satisfied: pydantic-core==2.33.2 in d:\\ml project\\csv-chat-agent\\.venv\\lib\\site-packages (from pydantic<3.0.0,>=2.7.4->langchain<2.0.0,>=0.3.27->langchain-community<0.4.0,>=0.3.0->langchain_experimental) (2.33.2)\n",
      "Requirement already satisfied: typing-inspection>=0.4.0 in d:\\ml project\\csv-chat-agent\\.venv\\lib\\site-packages (from pydantic<3.0.0,>=2.7.4->langchain<2.0.0,>=0.3.27->langchain-community<0.4.0,>=0.3.0->langchain_experimental) (0.4.2)\n",
      "Requirement already satisfied: python-dotenv>=0.21.0 in d:\\ml project\\csv-chat-agent\\.venv\\lib\\site-packages (from pydantic-settings<3.0.0,>=2.10.1->langchain-community<0.4.0,>=0.3.0->langchain_experimental) (1.1.1)\n",
      "Requirement already satisfied: charset_normalizer<4,>=2 in d:\\ml project\\csv-chat-agent\\.venv\\lib\\site-packages (from requests<3.0.0,>=2.32.5->langchain-community<0.4.0,>=0.3.0->langchain_experimental) (3.4.3)\n",
      "Requirement already satisfied: urllib3<3,>=1.21.1 in d:\\ml project\\csv-chat-agent\\.venv\\lib\\site-packages (from requests<3.0.0,>=2.32.5->langchain-community<0.4.0,>=0.3.0->langchain_experimental) (2.5.0)\n",
      "Requirement already satisfied: greenlet>=1 in d:\\ml project\\csv-chat-agent\\.venv\\lib\\site-packages (from SQLAlchemy<3.0.0,>=1.4.0->langchain-community<0.4.0,>=0.3.0->langchain_experimental) (3.2.4)\n",
      "Requirement already satisfied: mypy-extensions>=0.3.0 in d:\\ml project\\csv-chat-agent\\.venv\\lib\\site-packages (from typing-inspect<1,>=0.4.0->dataclasses-json<0.7.0,>=0.6.7->langchain-community<0.4.0,>=0.3.0->langchain_experimental) (1.1.0)\n",
      "Requirement already satisfied: sniffio>=1.1 in d:\\ml project\\csv-chat-agent\\.venv\\lib\\site-packages (from anyio->httpx<1,>=0.23.0->langsmith<1.0.0,>=0.1.125->langchain-community<0.4.0,>=0.3.0->langchain_experimental) (1.3.1)\n"
     ]
    }
   ],
   "source": [
    "!pip install langchain_experimental"
   ]
  },
  {
   "cell_type": "code",
   "execution_count": 8,
   "id": "22d46c6a-389b-4b9e-ab04-2dbf68c714c5",
   "metadata": {},
   "outputs": [
    {
     "name": "stdout",
     "output_type": "stream",
     "text": [
      "Requirement already satisfied: langchain-huggingface in d:\\ml project\\csv-chat-agent\\.venv\\lib\\site-packages (0.3.1)\n",
      "Requirement already satisfied: huggingface-hub in d:\\ml project\\csv-chat-agent\\.venv\\lib\\site-packages (0.35.3)\n",
      "Requirement already satisfied: langchain-core<1.0.0,>=0.3.70 in d:\\ml project\\csv-chat-agent\\.venv\\lib\\site-packages (from langchain-huggingface) (0.3.78)\n",
      "Requirement already satisfied: tokenizers>=0.19.1 in d:\\ml project\\csv-chat-agent\\.venv\\lib\\site-packages (from langchain-huggingface) (0.22.1)\n",
      "Requirement already satisfied: langsmith<1.0.0,>=0.3.45 in d:\\ml project\\csv-chat-agent\\.venv\\lib\\site-packages (from langchain-core<1.0.0,>=0.3.70->langchain-huggingface) (0.4.32)\n",
      "Requirement already satisfied: tenacity!=8.4.0,<10.0.0,>=8.1.0 in d:\\ml project\\csv-chat-agent\\.venv\\lib\\site-packages (from langchain-core<1.0.0,>=0.3.70->langchain-huggingface) (9.1.2)\n",
      "Requirement already satisfied: jsonpatch<2.0.0,>=1.33.0 in d:\\ml project\\csv-chat-agent\\.venv\\lib\\site-packages (from langchain-core<1.0.0,>=0.3.70->langchain-huggingface) (1.33)\n",
      "Requirement already satisfied: PyYAML<7.0.0,>=5.3.0 in d:\\ml project\\csv-chat-agent\\.venv\\lib\\site-packages (from langchain-core<1.0.0,>=0.3.70->langchain-huggingface) (6.0.3)\n",
      "Requirement already satisfied: typing-extensions<5.0.0,>=4.7.0 in d:\\ml project\\csv-chat-agent\\.venv\\lib\\site-packages (from langchain-core<1.0.0,>=0.3.70->langchain-huggingface) (4.15.0)\n",
      "Requirement already satisfied: packaging<26.0.0,>=23.2.0 in d:\\ml project\\csv-chat-agent\\.venv\\lib\\site-packages (from langchain-core<1.0.0,>=0.3.70->langchain-huggingface) (25.0)\n",
      "Requirement already satisfied: pydantic<3.0.0,>=2.7.4 in d:\\ml project\\csv-chat-agent\\.venv\\lib\\site-packages (from langchain-core<1.0.0,>=0.3.70->langchain-huggingface) (2.11.10)\n",
      "Requirement already satisfied: jsonpointer>=1.9 in d:\\ml project\\csv-chat-agent\\.venv\\lib\\site-packages (from jsonpatch<2.0.0,>=1.33.0->langchain-core<1.0.0,>=0.3.70->langchain-huggingface) (3.0.0)\n",
      "Requirement already satisfied: httpx<1,>=0.23.0 in d:\\ml project\\csv-chat-agent\\.venv\\lib\\site-packages (from langsmith<1.0.0,>=0.3.45->langchain-core<1.0.0,>=0.3.70->langchain-huggingface) (0.28.1)\n",
      "Requirement already satisfied: orjson>=3.9.14 in d:\\ml project\\csv-chat-agent\\.venv\\lib\\site-packages (from langsmith<1.0.0,>=0.3.45->langchain-core<1.0.0,>=0.3.70->langchain-huggingface) (3.11.3)\n",
      "Requirement already satisfied: requests-toolbelt>=1.0.0 in d:\\ml project\\csv-chat-agent\\.venv\\lib\\site-packages (from langsmith<1.0.0,>=0.3.45->langchain-core<1.0.0,>=0.3.70->langchain-huggingface) (1.0.0)\n",
      "Requirement already satisfied: requests>=2.0.0 in d:\\ml project\\csv-chat-agent\\.venv\\lib\\site-packages (from langsmith<1.0.0,>=0.3.45->langchain-core<1.0.0,>=0.3.70->langchain-huggingface) (2.32.5)\n",
      "Requirement already satisfied: zstandard>=0.23.0 in d:\\ml project\\csv-chat-agent\\.venv\\lib\\site-packages (from langsmith<1.0.0,>=0.3.45->langchain-core<1.0.0,>=0.3.70->langchain-huggingface) (0.25.0)\n",
      "Requirement already satisfied: anyio in d:\\ml project\\csv-chat-agent\\.venv\\lib\\site-packages (from httpx<1,>=0.23.0->langsmith<1.0.0,>=0.3.45->langchain-core<1.0.0,>=0.3.70->langchain-huggingface) (4.11.0)\n",
      "Requirement already satisfied: certifi in d:\\ml project\\csv-chat-agent\\.venv\\lib\\site-packages (from httpx<1,>=0.23.0->langsmith<1.0.0,>=0.3.45->langchain-core<1.0.0,>=0.3.70->langchain-huggingface) (2025.10.5)\n",
      "Requirement already satisfied: httpcore==1.* in d:\\ml project\\csv-chat-agent\\.venv\\lib\\site-packages (from httpx<1,>=0.23.0->langsmith<1.0.0,>=0.3.45->langchain-core<1.0.0,>=0.3.70->langchain-huggingface) (1.0.9)\n",
      "Requirement already satisfied: idna in d:\\ml project\\csv-chat-agent\\.venv\\lib\\site-packages (from httpx<1,>=0.23.0->langsmith<1.0.0,>=0.3.45->langchain-core<1.0.0,>=0.3.70->langchain-huggingface) (3.10)\n",
      "Requirement already satisfied: h11>=0.16 in d:\\ml project\\csv-chat-agent\\.venv\\lib\\site-packages (from httpcore==1.*->httpx<1,>=0.23.0->langsmith<1.0.0,>=0.3.45->langchain-core<1.0.0,>=0.3.70->langchain-huggingface) (0.16.0)\n",
      "Requirement already satisfied: annotated-types>=0.6.0 in d:\\ml project\\csv-chat-agent\\.venv\\lib\\site-packages (from pydantic<3.0.0,>=2.7.4->langchain-core<1.0.0,>=0.3.70->langchain-huggingface) (0.7.0)\n",
      "Requirement already satisfied: pydantic-core==2.33.2 in d:\\ml project\\csv-chat-agent\\.venv\\lib\\site-packages (from pydantic<3.0.0,>=2.7.4->langchain-core<1.0.0,>=0.3.70->langchain-huggingface) (2.33.2)\n",
      "Requirement already satisfied: typing-inspection>=0.4.0 in d:\\ml project\\csv-chat-agent\\.venv\\lib\\site-packages (from pydantic<3.0.0,>=2.7.4->langchain-core<1.0.0,>=0.3.70->langchain-huggingface) (0.4.2)\n",
      "Requirement already satisfied: filelock in d:\\ml project\\csv-chat-agent\\.venv\\lib\\site-packages (from huggingface-hub) (3.19.1)\n",
      "Requirement already satisfied: fsspec>=2023.5.0 in d:\\ml project\\csv-chat-agent\\.venv\\lib\\site-packages (from huggingface-hub) (2025.9.0)\n",
      "Requirement already satisfied: tqdm>=4.42.1 in d:\\ml project\\csv-chat-agent\\.venv\\lib\\site-packages (from huggingface-hub) (4.67.1)\n",
      "Requirement already satisfied: charset_normalizer<4,>=2 in d:\\ml project\\csv-chat-agent\\.venv\\lib\\site-packages (from requests>=2.0.0->langsmith<1.0.0,>=0.3.45->langchain-core<1.0.0,>=0.3.70->langchain-huggingface) (3.4.3)\n",
      "Requirement already satisfied: urllib3<3,>=1.21.1 in d:\\ml project\\csv-chat-agent\\.venv\\lib\\site-packages (from requests>=2.0.0->langsmith<1.0.0,>=0.3.45->langchain-core<1.0.0,>=0.3.70->langchain-huggingface) (2.5.0)\n",
      "Requirement already satisfied: colorama in d:\\ml project\\csv-chat-agent\\.venv\\lib\\site-packages (from tqdm>=4.42.1->huggingface-hub) (0.4.6)\n",
      "Requirement already satisfied: sniffio>=1.1 in d:\\ml project\\csv-chat-agent\\.venv\\lib\\site-packages (from anyio->httpx<1,>=0.23.0->langsmith<1.0.0,>=0.3.45->langchain-core<1.0.0,>=0.3.70->langchain-huggingface) (1.3.1)\n"
     ]
    }
   ],
   "source": [
    "!pip install langchain-huggingface huggingface-hub"
   ]
  },
  {
   "cell_type": "code",
   "execution_count": 9,
   "id": "b9a81455-5d01-45e3-95ba-682f674fe5f6",
   "metadata": {},
   "outputs": [
    {
     "data": {
      "text/plain": [
       "True"
      ]
     },
     "execution_count": 9,
     "metadata": {},
     "output_type": "execute_result"
    }
   ],
   "source": [
    "import pandas as pd\n",
    "from dotenv import load_dotenv\n",
    "from langchain_huggingface import HuggingFaceEndpoint\n",
    "from langchain_experimental.agents.agent_toolkits import create_pandas_dataframe_agent\n",
    "\n",
    "# Load environment variables from .env file (loads your HF token)\n",
    "load_dotenv()"
   ]
  },
  {
   "cell_type": "code",
   "execution_count": 19,
   "id": "305e5b1a-3ff5-445e-9e7e-ad88cc0ebe7d",
   "metadata": {},
   "outputs": [
    {
     "name": "stdout",
     "output_type": "stream",
     "text": [
      "Agent created successfully with the Chat Model!\n"
     ]
    }
   ],
   "source": [
    "# Load the CSV file into a pandas DataFrame\n",
    "df = pd.read_csv(\"sales_data.csv\")\n",
    "\n",
    "# We need one more import for the Chat wrapper\n",
    "from langchain_huggingface import ChatHuggingFace\n",
    "\n",
    "# Define the model we want to use\n",
    "repo_id = \"mistralai/Mistral-7B-Instruct-v0.2\"\n",
    "\n",
    "# 1. Initialize the standard Hugging Face LLM endpoint\n",
    "llm = HuggingFaceEndpoint(\n",
    "    repo_id=repo_id, \n",
    "    temperature=0.2, \n",
    "    max_new_tokens=512\n",
    ")\n",
    "\n",
    "# 2. Wrap the standard LLM in a ChatHuggingFace object\n",
    "chat_model = ChatHuggingFace(llm=llm)\n",
    "\n",
    "# 3. Create the agent using the NEW chat_model\n",
    "# The function call starts with the parenthesis on this line...\n",
    "agent = create_pandas_dataframe_agent(\n",
    "    chat_model,\n",
    "    df, \n",
    "    verbose=True, \n",
    "    allow_dangerous_code=True\n",
    ") # ...and the function call ends with the parenthesis on this line.\n",
    "\n",
    "# The print statement is separate, on the next line.\n",
    "print(\"Agent created successfully with the Chat Model!\")"
   ]
  },
  {
   "cell_type": "code",
   "execution_count": 20,
   "id": "82cdb26d-b155-40bf-9b82-cca13dbb0994",
   "metadata": {
    "scrolled": true
   },
   "outputs": [
    {
     "name": "stdout",
     "output_type": "stream",
     "text": [
      "\n",
      "\n",
      "\u001b[1m> Entering new AgentExecutor chain...\u001b[0m\n",
      "\u001b[32;1m\u001b[1;3m Thought: I can use the shape attribute of the df object to get the number of rows.\n",
      "Action: python_repl_ast\n",
      "Action Input: df.shape[0]\u001b[0m\u001b[36;1m\u001b[1;3m6\u001b[0m\u001b[32;1m\u001b[1;3m I now know the final answer\n",
      "Final Answer: The dataset has 6 rows.\u001b[0m\n",
      "\n",
      "\u001b[1m> Finished chain.\u001b[0m\n"
     ]
    },
    {
     "data": {
      "text/plain": [
       "{'input': 'How many rows are in the dataset?',\n",
       " 'output': 'The dataset has 6 rows.'}"
      ]
     },
     "execution_count": 20,
     "metadata": {},
     "output_type": "execute_result"
    }
   ],
   "source": [
    "# Now, ask your first question!\n",
    "agent.invoke(\"How many rows are in the dataset?\")"
   ]
  },
  {
   "cell_type": "code",
   "execution_count": 21,
   "id": "080269e6-60b0-4d4c-b57a-9da6697f9895",
   "metadata": {},
   "outputs": [
    {
     "name": "stdout",
     "output_type": "stream",
     "text": [
      "\n",
      "\n",
      "\u001b[1m> Entering new AgentExecutor chain...\u001b[0m\n",
      "\u001b[32;1m\u001b[1;3m Thought: I can use the sum function in pandas to find the total sales.\n",
      "Action: python_repl_ast\n",
      "Action Input: df['Sales'].sum()\u001b[0m\u001b[36;1m\u001b[1;3m6500\u001b[0m\u001b[32;1m\u001b[1;3m I now know the final answer.\n",
      "Final Answer: The total sales are 6500.\u001b[0m\n",
      "\n",
      "\u001b[1m> Finished chain.\u001b[0m\n"
     ]
    },
    {
     "data": {
      "text/plain": [
       "{'input': 'What are the total sales?', 'output': 'The total sales are 6500.'}"
      ]
     },
     "execution_count": 21,
     "metadata": {},
     "output_type": "execute_result"
    }
   ],
   "source": [
    "agent.invoke(\"What are the total sales?\")"
   ]
  },
  {
   "cell_type": "code",
   "execution_count": null,
   "id": "b5f8461c-f8af-471b-9b02-345e562d347f",
   "metadata": {},
   "outputs": [],
   "source": []
  }
 ],
 "metadata": {
  "kernelspec": {
   "display_name": "Python 3 (ipykernel)",
   "language": "python",
   "name": "python3"
  },
  "language_info": {
   "codemirror_mode": {
    "name": "ipython",
    "version": 3
   },
   "file_extension": ".py",
   "mimetype": "text/x-python",
   "name": "python",
   "nbconvert_exporter": "python",
   "pygments_lexer": "ipython3",
   "version": "3.13.7"
  }
 },
 "nbformat": 4,
 "nbformat_minor": 5
}
